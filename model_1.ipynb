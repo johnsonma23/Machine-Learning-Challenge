{
 "cells": [
  {
   "cell_type": "code",
   "execution_count": 2,
   "metadata": {},
   "outputs": [
    {
     "name": "stdout",
     "output_type": "stream",
     "text": [
      "Requirement already up-to-date: sklearn in /Users/johnsonma3/opt/anaconda3/envs/PythonData/lib/python3.6/site-packages (0.0)\r\n",
      "Requirement already satisfied, skipping upgrade: scikit-learn in /Users/johnsonma3/opt/anaconda3/envs/PythonData/lib/python3.6/site-packages (from sklearn) (0.22.1)\r\n",
      "Requirement already satisfied, skipping upgrade: joblib>=0.11 in /Users/johnsonma3/opt/anaconda3/envs/PythonData/lib/python3.6/site-packages (from scikit-learn->sklearn) (0.14.1)\r\n",
      "Requirement already satisfied, skipping upgrade: scipy>=0.17.0 in /Users/johnsonma3/opt/anaconda3/envs/PythonData/lib/python3.6/site-packages (from scikit-learn->sklearn) (1.4.1)\r\n",
      "Requirement already satisfied, skipping upgrade: numpy>=1.11.0 in /Users/johnsonma3/opt/anaconda3/envs/PythonData/lib/python3.6/site-packages (from scikit-learn->sklearn) (1.18.1)\r\n"
     ]
    }
   ],
   "source": [
    "# Update sklearn to prevent version mismatches\n",
    "!pip install sklearn --upgrade"
   ]
  },
  {
   "cell_type": "code",
   "execution_count": 3,
   "metadata": {},
   "outputs": [
    {
     "name": "stdout",
     "output_type": "stream",
     "text": [
      "Requirement already satisfied: joblib in /Users/johnsonma3/opt/anaconda3/envs/PythonData/lib/python3.6/site-packages (0.14.1)\r\n"
     ]
    }
   ],
   "source": [
    "# install joblib. This will be used to save your model. \n",
    "# Restart your kernel after installing \n",
    "!pip install joblib"
   ]
  },
  {
   "cell_type": "code",
   "execution_count": 4,
   "metadata": {},
   "outputs": [],
   "source": [
    "import pandas as pd"
   ]
  },
  {
   "cell_type": "markdown",
   "metadata": {},
   "source": [
    "# Read the CSV and Perform Basic Data Cleaning"
   ]
  },
  {
   "cell_type": "code",
   "execution_count": 87,
   "metadata": {},
   "outputs": [
    {
     "data": {
      "text/html": [
       "<div>\n",
       "<style scoped>\n",
       "    .dataframe tbody tr th:only-of-type {\n",
       "        vertical-align: middle;\n",
       "    }\n",
       "\n",
       "    .dataframe tbody tr th {\n",
       "        vertical-align: top;\n",
       "    }\n",
       "\n",
       "    .dataframe thead th {\n",
       "        text-align: right;\n",
       "    }\n",
       "</style>\n",
       "<table border=\"1\" class=\"dataframe\">\n",
       "  <thead>\n",
       "    <tr style=\"text-align: right;\">\n",
       "      <th></th>\n",
       "      <th>koi_disposition</th>\n",
       "      <th>koi_fpflag_nt</th>\n",
       "      <th>koi_fpflag_ss</th>\n",
       "      <th>koi_fpflag_co</th>\n",
       "      <th>koi_fpflag_ec</th>\n",
       "      <th>koi_period</th>\n",
       "      <th>koi_period_err1</th>\n",
       "      <th>koi_period_err2</th>\n",
       "      <th>koi_time0bk</th>\n",
       "      <th>koi_time0bk_err1</th>\n",
       "      <th>...</th>\n",
       "      <th>koi_steff_err2</th>\n",
       "      <th>koi_slogg</th>\n",
       "      <th>koi_slogg_err1</th>\n",
       "      <th>koi_slogg_err2</th>\n",
       "      <th>koi_srad</th>\n",
       "      <th>koi_srad_err1</th>\n",
       "      <th>koi_srad_err2</th>\n",
       "      <th>ra</th>\n",
       "      <th>dec</th>\n",
       "      <th>koi_kepmag</th>\n",
       "    </tr>\n",
       "  </thead>\n",
       "  <tbody>\n",
       "    <tr>\n",
       "      <th>0</th>\n",
       "      <td>CONFIRMED</td>\n",
       "      <td>0</td>\n",
       "      <td>0</td>\n",
       "      <td>0</td>\n",
       "      <td>0</td>\n",
       "      <td>54.418383</td>\n",
       "      <td>2.479000e-04</td>\n",
       "      <td>-2.479000e-04</td>\n",
       "      <td>162.513840</td>\n",
       "      <td>0.003520</td>\n",
       "      <td>...</td>\n",
       "      <td>-81</td>\n",
       "      <td>4.467</td>\n",
       "      <td>0.064</td>\n",
       "      <td>-0.096</td>\n",
       "      <td>0.927</td>\n",
       "      <td>0.105</td>\n",
       "      <td>-0.061</td>\n",
       "      <td>291.93423</td>\n",
       "      <td>48.141651</td>\n",
       "      <td>15.347</td>\n",
       "    </tr>\n",
       "    <tr>\n",
       "      <th>1</th>\n",
       "      <td>FALSE POSITIVE</td>\n",
       "      <td>0</td>\n",
       "      <td>1</td>\n",
       "      <td>0</td>\n",
       "      <td>0</td>\n",
       "      <td>19.899140</td>\n",
       "      <td>1.490000e-05</td>\n",
       "      <td>-1.490000e-05</td>\n",
       "      <td>175.850252</td>\n",
       "      <td>0.000581</td>\n",
       "      <td>...</td>\n",
       "      <td>-176</td>\n",
       "      <td>4.544</td>\n",
       "      <td>0.044</td>\n",
       "      <td>-0.176</td>\n",
       "      <td>0.868</td>\n",
       "      <td>0.233</td>\n",
       "      <td>-0.078</td>\n",
       "      <td>297.00482</td>\n",
       "      <td>48.134129</td>\n",
       "      <td>15.436</td>\n",
       "    </tr>\n",
       "    <tr>\n",
       "      <th>2</th>\n",
       "      <td>FALSE POSITIVE</td>\n",
       "      <td>0</td>\n",
       "      <td>1</td>\n",
       "      <td>0</td>\n",
       "      <td>0</td>\n",
       "      <td>1.736952</td>\n",
       "      <td>2.630000e-07</td>\n",
       "      <td>-2.630000e-07</td>\n",
       "      <td>170.307565</td>\n",
       "      <td>0.000115</td>\n",
       "      <td>...</td>\n",
       "      <td>-174</td>\n",
       "      <td>4.564</td>\n",
       "      <td>0.053</td>\n",
       "      <td>-0.168</td>\n",
       "      <td>0.791</td>\n",
       "      <td>0.201</td>\n",
       "      <td>-0.067</td>\n",
       "      <td>285.53461</td>\n",
       "      <td>48.285210</td>\n",
       "      <td>15.597</td>\n",
       "    </tr>\n",
       "    <tr>\n",
       "      <th>3</th>\n",
       "      <td>CONFIRMED</td>\n",
       "      <td>0</td>\n",
       "      <td>0</td>\n",
       "      <td>0</td>\n",
       "      <td>0</td>\n",
       "      <td>2.525592</td>\n",
       "      <td>3.760000e-06</td>\n",
       "      <td>-3.760000e-06</td>\n",
       "      <td>171.595550</td>\n",
       "      <td>0.001130</td>\n",
       "      <td>...</td>\n",
       "      <td>-211</td>\n",
       "      <td>4.438</td>\n",
       "      <td>0.070</td>\n",
       "      <td>-0.210</td>\n",
       "      <td>1.046</td>\n",
       "      <td>0.334</td>\n",
       "      <td>-0.133</td>\n",
       "      <td>288.75488</td>\n",
       "      <td>48.226200</td>\n",
       "      <td>15.509</td>\n",
       "    </tr>\n",
       "    <tr>\n",
       "      <th>4</th>\n",
       "      <td>CONFIRMED</td>\n",
       "      <td>0</td>\n",
       "      <td>0</td>\n",
       "      <td>0</td>\n",
       "      <td>0</td>\n",
       "      <td>4.134435</td>\n",
       "      <td>1.050000e-05</td>\n",
       "      <td>-1.050000e-05</td>\n",
       "      <td>172.979370</td>\n",
       "      <td>0.001900</td>\n",
       "      <td>...</td>\n",
       "      <td>-232</td>\n",
       "      <td>4.486</td>\n",
       "      <td>0.054</td>\n",
       "      <td>-0.229</td>\n",
       "      <td>0.972</td>\n",
       "      <td>0.315</td>\n",
       "      <td>-0.105</td>\n",
       "      <td>296.28613</td>\n",
       "      <td>48.224670</td>\n",
       "      <td>15.714</td>\n",
       "    </tr>\n",
       "  </tbody>\n",
       "</table>\n",
       "<p>5 rows × 41 columns</p>\n",
       "</div>"
      ],
      "text/plain": [
       "  koi_disposition  koi_fpflag_nt  koi_fpflag_ss  koi_fpflag_co  koi_fpflag_ec  \\\n",
       "0       CONFIRMED              0              0              0              0   \n",
       "1  FALSE POSITIVE              0              1              0              0   \n",
       "2  FALSE POSITIVE              0              1              0              0   \n",
       "3       CONFIRMED              0              0              0              0   \n",
       "4       CONFIRMED              0              0              0              0   \n",
       "\n",
       "   koi_period  koi_period_err1  koi_period_err2  koi_time0bk  \\\n",
       "0   54.418383     2.479000e-04    -2.479000e-04   162.513840   \n",
       "1   19.899140     1.490000e-05    -1.490000e-05   175.850252   \n",
       "2    1.736952     2.630000e-07    -2.630000e-07   170.307565   \n",
       "3    2.525592     3.760000e-06    -3.760000e-06   171.595550   \n",
       "4    4.134435     1.050000e-05    -1.050000e-05   172.979370   \n",
       "\n",
       "   koi_time0bk_err1  ...  koi_steff_err2  koi_slogg  koi_slogg_err1  \\\n",
       "0          0.003520  ...             -81      4.467           0.064   \n",
       "1          0.000581  ...            -176      4.544           0.044   \n",
       "2          0.000115  ...            -174      4.564           0.053   \n",
       "3          0.001130  ...            -211      4.438           0.070   \n",
       "4          0.001900  ...            -232      4.486           0.054   \n",
       "\n",
       "   koi_slogg_err2  koi_srad  koi_srad_err1  koi_srad_err2         ra  \\\n",
       "0          -0.096     0.927          0.105         -0.061  291.93423   \n",
       "1          -0.176     0.868          0.233         -0.078  297.00482   \n",
       "2          -0.168     0.791          0.201         -0.067  285.53461   \n",
       "3          -0.210     1.046          0.334         -0.133  288.75488   \n",
       "4          -0.229     0.972          0.315         -0.105  296.28613   \n",
       "\n",
       "         dec  koi_kepmag  \n",
       "0  48.141651      15.347  \n",
       "1  48.134129      15.436  \n",
       "2  48.285210      15.597  \n",
       "3  48.226200      15.509  \n",
       "4  48.224670      15.714  \n",
       "\n",
       "[5 rows x 41 columns]"
      ]
     },
     "execution_count": 87,
     "metadata": {},
     "output_type": "execute_result"
    }
   ],
   "source": [
    "df = pd.read_csv(\"data/exoplanet_data.csv\")\n",
    "# Drop the null columns where all values are null\n",
    "df = df.dropna(axis='columns', how='all')\n",
    "# Drop the null rows\n",
    "df = df.dropna()\n",
    "df.head()"
   ]
  },
  {
   "cell_type": "code",
   "execution_count": null,
   "metadata": {},
   "outputs": [],
   "source": []
  },
  {
   "cell_type": "markdown",
   "metadata": {},
   "source": [
    "# Select your features (columns)"
   ]
  },
  {
   "cell_type": "code",
   "execution_count": 6,
   "metadata": {},
   "outputs": [
    {
     "data": {
      "text/html": [
       "<div>\n",
       "<style scoped>\n",
       "    .dataframe tbody tr th:only-of-type {\n",
       "        vertical-align: middle;\n",
       "    }\n",
       "\n",
       "    .dataframe tbody tr th {\n",
       "        vertical-align: top;\n",
       "    }\n",
       "\n",
       "    .dataframe thead th {\n",
       "        text-align: right;\n",
       "    }\n",
       "</style>\n",
       "<table border=\"1\" class=\"dataframe\">\n",
       "  <thead>\n",
       "    <tr style=\"text-align: right;\">\n",
       "      <th></th>\n",
       "      <th>koi_fpflag_nt</th>\n",
       "      <th>koi_fpflag_ss</th>\n",
       "      <th>koi_fpflag_co</th>\n",
       "      <th>koi_fpflag_ec</th>\n",
       "      <th>koi_period</th>\n",
       "      <th>koi_period_err1</th>\n",
       "      <th>koi_period_err2</th>\n",
       "      <th>koi_time0bk</th>\n",
       "      <th>koi_time0bk_err1</th>\n",
       "      <th>koi_time0bk_err2</th>\n",
       "      <th>...</th>\n",
       "      <th>koi_steff_err2</th>\n",
       "      <th>koi_slogg</th>\n",
       "      <th>koi_slogg_err1</th>\n",
       "      <th>koi_slogg_err2</th>\n",
       "      <th>koi_srad</th>\n",
       "      <th>koi_srad_err1</th>\n",
       "      <th>koi_srad_err2</th>\n",
       "      <th>ra</th>\n",
       "      <th>dec</th>\n",
       "      <th>koi_kepmag</th>\n",
       "    </tr>\n",
       "  </thead>\n",
       "  <tbody>\n",
       "    <tr>\n",
       "      <th>0</th>\n",
       "      <td>0</td>\n",
       "      <td>0</td>\n",
       "      <td>0</td>\n",
       "      <td>0</td>\n",
       "      <td>54.418383</td>\n",
       "      <td>2.479000e-04</td>\n",
       "      <td>-2.479000e-04</td>\n",
       "      <td>162.513840</td>\n",
       "      <td>0.003520</td>\n",
       "      <td>-0.003520</td>\n",
       "      <td>...</td>\n",
       "      <td>-81</td>\n",
       "      <td>4.467</td>\n",
       "      <td>0.064</td>\n",
       "      <td>-0.096</td>\n",
       "      <td>0.927</td>\n",
       "      <td>0.105</td>\n",
       "      <td>-0.061</td>\n",
       "      <td>291.93423</td>\n",
       "      <td>48.141651</td>\n",
       "      <td>15.347</td>\n",
       "    </tr>\n",
       "    <tr>\n",
       "      <th>1</th>\n",
       "      <td>0</td>\n",
       "      <td>1</td>\n",
       "      <td>0</td>\n",
       "      <td>0</td>\n",
       "      <td>19.899140</td>\n",
       "      <td>1.490000e-05</td>\n",
       "      <td>-1.490000e-05</td>\n",
       "      <td>175.850252</td>\n",
       "      <td>0.000581</td>\n",
       "      <td>-0.000581</td>\n",
       "      <td>...</td>\n",
       "      <td>-176</td>\n",
       "      <td>4.544</td>\n",
       "      <td>0.044</td>\n",
       "      <td>-0.176</td>\n",
       "      <td>0.868</td>\n",
       "      <td>0.233</td>\n",
       "      <td>-0.078</td>\n",
       "      <td>297.00482</td>\n",
       "      <td>48.134129</td>\n",
       "      <td>15.436</td>\n",
       "    </tr>\n",
       "    <tr>\n",
       "      <th>2</th>\n",
       "      <td>0</td>\n",
       "      <td>1</td>\n",
       "      <td>0</td>\n",
       "      <td>0</td>\n",
       "      <td>1.736952</td>\n",
       "      <td>2.630000e-07</td>\n",
       "      <td>-2.630000e-07</td>\n",
       "      <td>170.307565</td>\n",
       "      <td>0.000115</td>\n",
       "      <td>-0.000115</td>\n",
       "      <td>...</td>\n",
       "      <td>-174</td>\n",
       "      <td>4.564</td>\n",
       "      <td>0.053</td>\n",
       "      <td>-0.168</td>\n",
       "      <td>0.791</td>\n",
       "      <td>0.201</td>\n",
       "      <td>-0.067</td>\n",
       "      <td>285.53461</td>\n",
       "      <td>48.285210</td>\n",
       "      <td>15.597</td>\n",
       "    </tr>\n",
       "    <tr>\n",
       "      <th>3</th>\n",
       "      <td>0</td>\n",
       "      <td>0</td>\n",
       "      <td>0</td>\n",
       "      <td>0</td>\n",
       "      <td>2.525592</td>\n",
       "      <td>3.760000e-06</td>\n",
       "      <td>-3.760000e-06</td>\n",
       "      <td>171.595550</td>\n",
       "      <td>0.001130</td>\n",
       "      <td>-0.001130</td>\n",
       "      <td>...</td>\n",
       "      <td>-211</td>\n",
       "      <td>4.438</td>\n",
       "      <td>0.070</td>\n",
       "      <td>-0.210</td>\n",
       "      <td>1.046</td>\n",
       "      <td>0.334</td>\n",
       "      <td>-0.133</td>\n",
       "      <td>288.75488</td>\n",
       "      <td>48.226200</td>\n",
       "      <td>15.509</td>\n",
       "    </tr>\n",
       "    <tr>\n",
       "      <th>4</th>\n",
       "      <td>0</td>\n",
       "      <td>0</td>\n",
       "      <td>0</td>\n",
       "      <td>0</td>\n",
       "      <td>4.134435</td>\n",
       "      <td>1.050000e-05</td>\n",
       "      <td>-1.050000e-05</td>\n",
       "      <td>172.979370</td>\n",
       "      <td>0.001900</td>\n",
       "      <td>-0.001900</td>\n",
       "      <td>...</td>\n",
       "      <td>-232</td>\n",
       "      <td>4.486</td>\n",
       "      <td>0.054</td>\n",
       "      <td>-0.229</td>\n",
       "      <td>0.972</td>\n",
       "      <td>0.315</td>\n",
       "      <td>-0.105</td>\n",
       "      <td>296.28613</td>\n",
       "      <td>48.224670</td>\n",
       "      <td>15.714</td>\n",
       "    </tr>\n",
       "  </tbody>\n",
       "</table>\n",
       "<p>5 rows × 40 columns</p>\n",
       "</div>"
      ],
      "text/plain": [
       "   koi_fpflag_nt  koi_fpflag_ss  koi_fpflag_co  koi_fpflag_ec  koi_period  \\\n",
       "0              0              0              0              0   54.418383   \n",
       "1              0              1              0              0   19.899140   \n",
       "2              0              1              0              0    1.736952   \n",
       "3              0              0              0              0    2.525592   \n",
       "4              0              0              0              0    4.134435   \n",
       "\n",
       "   koi_period_err1  koi_period_err2  koi_time0bk  koi_time0bk_err1  \\\n",
       "0     2.479000e-04    -2.479000e-04   162.513840          0.003520   \n",
       "1     1.490000e-05    -1.490000e-05   175.850252          0.000581   \n",
       "2     2.630000e-07    -2.630000e-07   170.307565          0.000115   \n",
       "3     3.760000e-06    -3.760000e-06   171.595550          0.001130   \n",
       "4     1.050000e-05    -1.050000e-05   172.979370          0.001900   \n",
       "\n",
       "   koi_time0bk_err2  ...  koi_steff_err2  koi_slogg  koi_slogg_err1  \\\n",
       "0         -0.003520  ...             -81      4.467           0.064   \n",
       "1         -0.000581  ...            -176      4.544           0.044   \n",
       "2         -0.000115  ...            -174      4.564           0.053   \n",
       "3         -0.001130  ...            -211      4.438           0.070   \n",
       "4         -0.001900  ...            -232      4.486           0.054   \n",
       "\n",
       "   koi_slogg_err2  koi_srad  koi_srad_err1  koi_srad_err2         ra  \\\n",
       "0          -0.096     0.927          0.105         -0.061  291.93423   \n",
       "1          -0.176     0.868          0.233         -0.078  297.00482   \n",
       "2          -0.168     0.791          0.201         -0.067  285.53461   \n",
       "3          -0.210     1.046          0.334         -0.133  288.75488   \n",
       "4          -0.229     0.972          0.315         -0.105  296.28613   \n",
       "\n",
       "         dec  koi_kepmag  \n",
       "0  48.141651      15.347  \n",
       "1  48.134129      15.436  \n",
       "2  48.285210      15.597  \n",
       "3  48.226200      15.509  \n",
       "4  48.224670      15.714  \n",
       "\n",
       "[5 rows x 40 columns]"
      ]
     },
     "execution_count": 6,
     "metadata": {},
     "output_type": "execute_result"
    }
   ],
   "source": [
    "# Set features. This will also be used as your x values.\n",
    "X= df.drop(\"koi_disposition\", axis=1)\n",
    "X.head()"
   ]
  },
  {
   "cell_type": "code",
   "execution_count": 35,
   "metadata": {},
   "outputs": [
    {
     "data": {
      "text/plain": [
       "0         CONFIRMED\n",
       "1    FALSE POSITIVE\n",
       "2    FALSE POSITIVE\n",
       "3         CONFIRMED\n",
       "4         CONFIRMED\n",
       "Name: koi_disposition, dtype: object"
      ]
     },
     "execution_count": 35,
     "metadata": {},
     "output_type": "execute_result"
    }
   ],
   "source": [
    "# Set the y value \n",
    "y= df[\"koi_disposition\"]\n",
    "y.head()"
   ]
  },
  {
   "cell_type": "markdown",
   "metadata": {},
   "source": [
    "# Create a Train Test Split\n",
    "\n",
    "Use `koi_disposition` for the y values"
   ]
  },
  {
   "cell_type": "code",
   "execution_count": 8,
   "metadata": {},
   "outputs": [],
   "source": [
    "from sklearn.model_selection import train_test_split\n",
    "X_train, X_test, y_train, y_test = train_test_split(X, y, random_state=115, stratify=y)"
   ]
  },
  {
   "cell_type": "code",
   "execution_count": 9,
   "metadata": {},
   "outputs": [
    {
     "data": {
      "text/html": [
       "<div>\n",
       "<style scoped>\n",
       "    .dataframe tbody tr th:only-of-type {\n",
       "        vertical-align: middle;\n",
       "    }\n",
       "\n",
       "    .dataframe tbody tr th {\n",
       "        vertical-align: top;\n",
       "    }\n",
       "\n",
       "    .dataframe thead th {\n",
       "        text-align: right;\n",
       "    }\n",
       "</style>\n",
       "<table border=\"1\" class=\"dataframe\">\n",
       "  <thead>\n",
       "    <tr style=\"text-align: right;\">\n",
       "      <th></th>\n",
       "      <th>koi_fpflag_nt</th>\n",
       "      <th>koi_fpflag_ss</th>\n",
       "      <th>koi_fpflag_co</th>\n",
       "      <th>koi_fpflag_ec</th>\n",
       "      <th>koi_period</th>\n",
       "      <th>koi_period_err1</th>\n",
       "      <th>koi_period_err2</th>\n",
       "      <th>koi_time0bk</th>\n",
       "      <th>koi_time0bk_err1</th>\n",
       "      <th>koi_time0bk_err2</th>\n",
       "      <th>...</th>\n",
       "      <th>koi_steff_err2</th>\n",
       "      <th>koi_slogg</th>\n",
       "      <th>koi_slogg_err1</th>\n",
       "      <th>koi_slogg_err2</th>\n",
       "      <th>koi_srad</th>\n",
       "      <th>koi_srad_err1</th>\n",
       "      <th>koi_srad_err2</th>\n",
       "      <th>ra</th>\n",
       "      <th>dec</th>\n",
       "      <th>koi_kepmag</th>\n",
       "    </tr>\n",
       "  </thead>\n",
       "  <tbody>\n",
       "    <tr>\n",
       "      <th>2700</th>\n",
       "      <td>0</td>\n",
       "      <td>0</td>\n",
       "      <td>0</td>\n",
       "      <td>0</td>\n",
       "      <td>31.804760</td>\n",
       "      <td>0.000091</td>\n",
       "      <td>-0.000091</td>\n",
       "      <td>190.25413</td>\n",
       "      <td>0.00224</td>\n",
       "      <td>-0.00224</td>\n",
       "      <td>...</td>\n",
       "      <td>-128</td>\n",
       "      <td>4.235</td>\n",
       "      <td>0.143</td>\n",
       "      <td>-0.117</td>\n",
       "      <td>1.356</td>\n",
       "      <td>0.212</td>\n",
       "      <td>-0.259</td>\n",
       "      <td>287.62082</td>\n",
       "      <td>43.141647</td>\n",
       "      <td>13.178</td>\n",
       "    </tr>\n",
       "    <tr>\n",
       "      <th>21</th>\n",
       "      <td>0</td>\n",
       "      <td>0</td>\n",
       "      <td>0</td>\n",
       "      <td>0</td>\n",
       "      <td>4.280964</td>\n",
       "      <td>0.000006</td>\n",
       "      <td>-0.000006</td>\n",
       "      <td>171.89659</td>\n",
       "      <td>0.00115</td>\n",
       "      <td>-0.00115</td>\n",
       "      <td>...</td>\n",
       "      <td>-169</td>\n",
       "      <td>4.564</td>\n",
       "      <td>0.032</td>\n",
       "      <td>-0.168</td>\n",
       "      <td>0.831</td>\n",
       "      <td>0.207</td>\n",
       "      <td>-0.069</td>\n",
       "      <td>294.26581</td>\n",
       "      <td>49.314091</td>\n",
       "      <td>15.356</td>\n",
       "    </tr>\n",
       "    <tr>\n",
       "      <th>5040</th>\n",
       "      <td>0</td>\n",
       "      <td>1</td>\n",
       "      <td>1</td>\n",
       "      <td>0</td>\n",
       "      <td>0.829019</td>\n",
       "      <td>0.000002</td>\n",
       "      <td>-0.000002</td>\n",
       "      <td>131.46667</td>\n",
       "      <td>0.00401</td>\n",
       "      <td>-0.00401</td>\n",
       "      <td>...</td>\n",
       "      <td>-255</td>\n",
       "      <td>4.271</td>\n",
       "      <td>0.124</td>\n",
       "      <td>-0.186</td>\n",
       "      <td>1.328</td>\n",
       "      <td>0.408</td>\n",
       "      <td>-0.220</td>\n",
       "      <td>296.03485</td>\n",
       "      <td>45.490822</td>\n",
       "      <td>14.661</td>\n",
       "    </tr>\n",
       "    <tr>\n",
       "      <th>2795</th>\n",
       "      <td>0</td>\n",
       "      <td>0</td>\n",
       "      <td>1</td>\n",
       "      <td>0</td>\n",
       "      <td>1.387838</td>\n",
       "      <td>0.000006</td>\n",
       "      <td>-0.000006</td>\n",
       "      <td>132.11351</td>\n",
       "      <td>0.00318</td>\n",
       "      <td>-0.00318</td>\n",
       "      <td>...</td>\n",
       "      <td>-219</td>\n",
       "      <td>4.442</td>\n",
       "      <td>0.054</td>\n",
       "      <td>-0.216</td>\n",
       "      <td>1.044</td>\n",
       "      <td>0.335</td>\n",
       "      <td>-0.112</td>\n",
       "      <td>295.64212</td>\n",
       "      <td>48.773071</td>\n",
       "      <td>15.167</td>\n",
       "    </tr>\n",
       "    <tr>\n",
       "      <th>1765</th>\n",
       "      <td>0</td>\n",
       "      <td>0</td>\n",
       "      <td>0</td>\n",
       "      <td>0</td>\n",
       "      <td>14.383227</td>\n",
       "      <td>0.000086</td>\n",
       "      <td>-0.000086</td>\n",
       "      <td>140.57648</td>\n",
       "      <td>0.00530</td>\n",
       "      <td>-0.00530</td>\n",
       "      <td>...</td>\n",
       "      <td>-135</td>\n",
       "      <td>4.249</td>\n",
       "      <td>0.137</td>\n",
       "      <td>-0.112</td>\n",
       "      <td>1.291</td>\n",
       "      <td>0.216</td>\n",
       "      <td>-0.216</td>\n",
       "      <td>290.08276</td>\n",
       "      <td>50.863480</td>\n",
       "      <td>13.312</td>\n",
       "    </tr>\n",
       "  </tbody>\n",
       "</table>\n",
       "<p>5 rows × 40 columns</p>\n",
       "</div>"
      ],
      "text/plain": [
       "      koi_fpflag_nt  koi_fpflag_ss  koi_fpflag_co  koi_fpflag_ec  koi_period  \\\n",
       "2700              0              0              0              0   31.804760   \n",
       "21                0              0              0              0    4.280964   \n",
       "5040              0              1              1              0    0.829019   \n",
       "2795              0              0              1              0    1.387838   \n",
       "1765              0              0              0              0   14.383227   \n",
       "\n",
       "      koi_period_err1  koi_period_err2  koi_time0bk  koi_time0bk_err1  \\\n",
       "2700         0.000091        -0.000091    190.25413           0.00224   \n",
       "21           0.000006        -0.000006    171.89659           0.00115   \n",
       "5040         0.000002        -0.000002    131.46667           0.00401   \n",
       "2795         0.000006        -0.000006    132.11351           0.00318   \n",
       "1765         0.000086        -0.000086    140.57648           0.00530   \n",
       "\n",
       "      koi_time0bk_err2  ...  koi_steff_err2  koi_slogg  koi_slogg_err1  \\\n",
       "2700          -0.00224  ...            -128      4.235           0.143   \n",
       "21            -0.00115  ...            -169      4.564           0.032   \n",
       "5040          -0.00401  ...            -255      4.271           0.124   \n",
       "2795          -0.00318  ...            -219      4.442           0.054   \n",
       "1765          -0.00530  ...            -135      4.249           0.137   \n",
       "\n",
       "      koi_slogg_err2  koi_srad  koi_srad_err1  koi_srad_err2         ra  \\\n",
       "2700          -0.117     1.356          0.212         -0.259  287.62082   \n",
       "21            -0.168     0.831          0.207         -0.069  294.26581   \n",
       "5040          -0.186     1.328          0.408         -0.220  296.03485   \n",
       "2795          -0.216     1.044          0.335         -0.112  295.64212   \n",
       "1765          -0.112     1.291          0.216         -0.216  290.08276   \n",
       "\n",
       "            dec  koi_kepmag  \n",
       "2700  43.141647      13.178  \n",
       "21    49.314091      15.356  \n",
       "5040  45.490822      14.661  \n",
       "2795  48.773071      15.167  \n",
       "1765  50.863480      13.312  \n",
       "\n",
       "[5 rows x 40 columns]"
      ]
     },
     "execution_count": 9,
     "metadata": {},
     "output_type": "execute_result"
    }
   ],
   "source": [
    "X_train.head()"
   ]
  },
  {
   "cell_type": "code",
   "execution_count": null,
   "metadata": {},
   "outputs": [],
   "source": [
    "\n"
   ]
  },
  {
   "cell_type": "markdown",
   "metadata": {},
   "source": [
    "# Pre-processing\n",
    "\n",
    "Scale the data using the MinMaxScaler and perform some feature selection"
   ]
  },
  {
   "cell_type": "code",
   "execution_count": 10,
   "metadata": {},
   "outputs": [],
   "source": [
    "# Scale your data\n",
    "from sklearn.preprocessing import MinMaxScaler\n",
    "X_scaler = MinMaxScaler().fit(X_train)\n",
    "X_train_scaled = X_scaler.transform(X_train)\n",
    "X_test_scaled = X_scaler.transform(X_test)"
   ]
  },
  {
   "cell_type": "markdown",
   "metadata": {},
   "source": [
    "# Train the Model\n",
    "\n"
   ]
  },
  {
   "cell_type": "code",
   "execution_count": 11,
   "metadata": {},
   "outputs": [],
   "source": [
    "from sklearn.svm import SVC \n",
    "model = SVC(kernel='linear')\n",
    "model.fit(X_train_scaled, y_train)\n",
    "predictions = model.predict(X_test)"
   ]
  },
  {
   "cell_type": "code",
   "execution_count": 12,
   "metadata": {},
   "outputs": [
    {
     "name": "stdout",
     "output_type": "stream",
     "text": [
      "Training Data Score: 0.8498950982262063\n",
      "Testing Data Score: 0.8329519450800915\n"
     ]
    }
   ],
   "source": [
    "print(f\"Training Data Score: {model.score(X_train_scaled, y_train)}\")\n",
    "print(f\"Testing Data Score: {model.score(X_test_scaled, y_test)}\")"
   ]
  },
  {
   "cell_type": "markdown",
   "metadata": {},
   "source": [
    "# Hyperparameter Tuning\n",
    "\n",
    "Use `GridSearchCV` to tune the model's parameters"
   ]
  },
  {
   "cell_type": "code",
   "execution_count": 13,
   "metadata": {},
   "outputs": [],
   "source": [
    "# Create the GridSearch estimator along with a parameter object containing the values to adjust\n",
    "from sklearn.model_selection import GridSearchCV\n",
    "param_grid = {'C': [1, 5, 10,],\n",
    "              'gamma': [0.0001, 0.001, 0.01]}\n",
    "grid = GridSearchCV(model, param_grid, verbose=3)"
   ]
  },
  {
   "cell_type": "code",
   "execution_count": 14,
   "metadata": {},
   "outputs": [
    {
     "name": "stdout",
     "output_type": "stream",
     "text": [
      "Fitting 5 folds for each of 9 candidates, totalling 45 fits\n",
      "[CV] C=1, gamma=0.0001 ...............................................\n"
     ]
    },
    {
     "name": "stderr",
     "output_type": "stream",
     "text": [
      "[Parallel(n_jobs=1)]: Using backend SequentialBackend with 1 concurrent workers.\n"
     ]
    },
    {
     "name": "stdout",
     "output_type": "stream",
     "text": [
      "[CV] ................... C=1, gamma=0.0001, score=0.842, total=   0.3s\n",
      "[CV] C=1, gamma=0.0001 ...............................................\n"
     ]
    },
    {
     "name": "stderr",
     "output_type": "stream",
     "text": [
      "[Parallel(n_jobs=1)]: Done   1 out of   1 | elapsed:    0.3s remaining:    0.0s\n"
     ]
    },
    {
     "name": "stdout",
     "output_type": "stream",
     "text": [
      "[CV] ................... C=1, gamma=0.0001, score=0.860, total=   0.3s\n",
      "[CV] C=1, gamma=0.0001 ...............................................\n"
     ]
    },
    {
     "name": "stderr",
     "output_type": "stream",
     "text": [
      "[Parallel(n_jobs=1)]: Done   2 out of   2 | elapsed:    0.6s remaining:    0.0s\n"
     ]
    },
    {
     "name": "stdout",
     "output_type": "stream",
     "text": [
      "[CV] ................... C=1, gamma=0.0001, score=0.841, total=   0.3s\n",
      "[CV] C=1, gamma=0.0001 ...............................................\n",
      "[CV] ................... C=1, gamma=0.0001, score=0.843, total=   0.3s\n",
      "[CV] C=1, gamma=0.0001 ...............................................\n",
      "[CV] ................... C=1, gamma=0.0001, score=0.844, total=   0.3s\n",
      "[CV] C=1, gamma=0.001 ................................................\n",
      "[CV] .................... C=1, gamma=0.001, score=0.842, total=   0.3s\n",
      "[CV] C=1, gamma=0.001 ................................................\n",
      "[CV] .................... C=1, gamma=0.001, score=0.860, total=   0.3s\n",
      "[CV] C=1, gamma=0.001 ................................................\n",
      "[CV] .................... C=1, gamma=0.001, score=0.841, total=   0.3s\n",
      "[CV] C=1, gamma=0.001 ................................................\n",
      "[CV] .................... C=1, gamma=0.001, score=0.843, total=   0.3s\n",
      "[CV] C=1, gamma=0.001 ................................................\n",
      "[CV] .................... C=1, gamma=0.001, score=0.844, total=   0.3s\n",
      "[CV] C=1, gamma=0.01 .................................................\n",
      "[CV] ..................... C=1, gamma=0.01, score=0.842, total=   0.3s\n",
      "[CV] C=1, gamma=0.01 .................................................\n",
      "[CV] ..................... C=1, gamma=0.01, score=0.860, total=   0.3s\n",
      "[CV] C=1, gamma=0.01 .................................................\n",
      "[CV] ..................... C=1, gamma=0.01, score=0.841, total=   0.3s\n",
      "[CV] C=1, gamma=0.01 .................................................\n",
      "[CV] ..................... C=1, gamma=0.01, score=0.843, total=   0.3s\n",
      "[CV] C=1, gamma=0.01 .................................................\n",
      "[CV] ..................... C=1, gamma=0.01, score=0.844, total=   0.3s\n",
      "[CV] C=5, gamma=0.0001 ...............................................\n",
      "[CV] ................... C=5, gamma=0.0001, score=0.863, total=   0.3s\n",
      "[CV] C=5, gamma=0.0001 ...............................................\n",
      "[CV] ................... C=5, gamma=0.0001, score=0.871, total=   0.3s\n",
      "[CV] C=5, gamma=0.0001 ...............................................\n",
      "[CV] ................... C=5, gamma=0.0001, score=0.863, total=   0.3s\n",
      "[CV] C=5, gamma=0.0001 ...............................................\n",
      "[CV] ................... C=5, gamma=0.0001, score=0.868, total=   0.3s\n",
      "[CV] C=5, gamma=0.0001 ...............................................\n",
      "[CV] ................... C=5, gamma=0.0001, score=0.870, total=   0.3s\n",
      "[CV] C=5, gamma=0.001 ................................................\n",
      "[CV] .................... C=5, gamma=0.001, score=0.863, total=   0.3s\n",
      "[CV] C=5, gamma=0.001 ................................................\n",
      "[CV] .................... C=5, gamma=0.001, score=0.871, total=   0.3s\n",
      "[CV] C=5, gamma=0.001 ................................................\n",
      "[CV] .................... C=5, gamma=0.001, score=0.863, total=   0.3s\n",
      "[CV] C=5, gamma=0.001 ................................................\n",
      "[CV] .................... C=5, gamma=0.001, score=0.868, total=   0.3s\n",
      "[CV] C=5, gamma=0.001 ................................................\n",
      "[CV] .................... C=5, gamma=0.001, score=0.870, total=   0.3s\n",
      "[CV] C=5, gamma=0.01 .................................................\n",
      "[CV] ..................... C=5, gamma=0.01, score=0.863, total=   0.3s\n",
      "[CV] C=5, gamma=0.01 .................................................\n",
      "[CV] ..................... C=5, gamma=0.01, score=0.871, total=   0.3s\n",
      "[CV] C=5, gamma=0.01 .................................................\n",
      "[CV] ..................... C=5, gamma=0.01, score=0.863, total=   0.3s\n",
      "[CV] C=5, gamma=0.01 .................................................\n",
      "[CV] ..................... C=5, gamma=0.01, score=0.868, total=   0.3s\n",
      "[CV] C=5, gamma=0.01 .................................................\n",
      "[CV] ..................... C=5, gamma=0.01, score=0.870, total=   0.3s\n",
      "[CV] C=10, gamma=0.0001 ..............................................\n",
      "[CV] .................. C=10, gamma=0.0001, score=0.867, total=   0.4s\n",
      "[CV] C=10, gamma=0.0001 ..............................................\n",
      "[CV] .................. C=10, gamma=0.0001, score=0.877, total=   0.4s\n",
      "[CV] C=10, gamma=0.0001 ..............................................\n",
      "[CV] .................. C=10, gamma=0.0001, score=0.872, total=   0.3s\n",
      "[CV] C=10, gamma=0.0001 ..............................................\n",
      "[CV] .................. C=10, gamma=0.0001, score=0.876, total=   0.3s\n",
      "[CV] C=10, gamma=0.0001 ..............................................\n",
      "[CV] .................. C=10, gamma=0.0001, score=0.874, total=   0.4s\n",
      "[CV] C=10, gamma=0.001 ...............................................\n",
      "[CV] ................... C=10, gamma=0.001, score=0.867, total=   0.3s\n",
      "[CV] C=10, gamma=0.001 ...............................................\n",
      "[CV] ................... C=10, gamma=0.001, score=0.877, total=   0.4s\n",
      "[CV] C=10, gamma=0.001 ...............................................\n",
      "[CV] ................... C=10, gamma=0.001, score=0.872, total=   0.4s\n",
      "[CV] C=10, gamma=0.001 ...............................................\n",
      "[CV] ................... C=10, gamma=0.001, score=0.876, total=   0.3s\n",
      "[CV] C=10, gamma=0.001 ...............................................\n",
      "[CV] ................... C=10, gamma=0.001, score=0.874, total=   0.3s\n",
      "[CV] C=10, gamma=0.01 ................................................\n",
      "[CV] .................... C=10, gamma=0.01, score=0.867, total=   0.3s\n",
      "[CV] C=10, gamma=0.01 ................................................\n",
      "[CV] .................... C=10, gamma=0.01, score=0.877, total=   0.3s\n",
      "[CV] C=10, gamma=0.01 ................................................\n",
      "[CV] .................... C=10, gamma=0.01, score=0.872, total=   0.3s\n",
      "[CV] C=10, gamma=0.01 ................................................\n",
      "[CV] .................... C=10, gamma=0.01, score=0.876, total=   0.3s\n",
      "[CV] C=10, gamma=0.01 ................................................\n",
      "[CV] .................... C=10, gamma=0.01, score=0.874, total=   0.3s\n"
     ]
    },
    {
     "name": "stderr",
     "output_type": "stream",
     "text": [
      "[Parallel(n_jobs=1)]: Done  45 out of  45 | elapsed:   14.6s finished\n"
     ]
    },
    {
     "data": {
      "text/plain": [
       "GridSearchCV(cv=None, error_score=nan,\n",
       "             estimator=SVC(C=1.0, break_ties=False, cache_size=200,\n",
       "                           class_weight=None, coef0=0.0,\n",
       "                           decision_function_shape='ovr', degree=3,\n",
       "                           gamma='scale', kernel='linear', max_iter=-1,\n",
       "                           probability=False, random_state=None, shrinking=True,\n",
       "                           tol=0.001, verbose=False),\n",
       "             iid='deprecated', n_jobs=None,\n",
       "             param_grid={'C': [1, 5, 10], 'gamma': [0.0001, 0.001, 0.01]},\n",
       "             pre_dispatch='2*n_jobs', refit=True, return_train_score=False,\n",
       "             scoring=None, verbose=3)"
      ]
     },
     "execution_count": 14,
     "metadata": {},
     "output_type": "execute_result"
    }
   ],
   "source": [
    "# Train the model with GridSearch\n",
    "# Fit the model using the grid search estimator. \n",
    "grid.fit(X_train_scaled, y_train)"
   ]
  },
  {
   "cell_type": "code",
   "execution_count": 76,
   "metadata": {},
   "outputs": [
    {
     "name": "stdout",
     "output_type": "stream",
     "text": [
      " Best Paramters dataset: {'C': 10, 'gamma': 0.0001}\n"
     ]
    }
   ],
   "source": [
    "# List the best parameters for this dataset\n",
    "print(f\" Best Paramters dataset: {(grid.best_params_)}\")"
   ]
  },
  {
   "cell_type": "code",
   "execution_count": 78,
   "metadata": {},
   "outputs": [
    {
     "name": "stdout",
     "output_type": "stream",
     "text": [
      "Best Score: 0.8733555767397521\n"
     ]
    }
   ],
   "source": [
    "# List the best score\n",
    "print(f\"Best Score: {(grid.best_score_)}\")"
   ]
  },
  {
   "cell_type": "code",
   "execution_count": 77,
   "metadata": {},
   "outputs": [
    {
     "name": "stdout",
     "output_type": "stream",
     "text": [
      "Train score: 0.8775510204081632\n"
     ]
    }
   ],
   "source": [
    "print(f\"Train score: {grid.score(X_train_scaled, y_train)}\")"
   ]
  },
  {
   "cell_type": "code",
   "execution_count": 79,
   "metadata": {},
   "outputs": [
    {
     "name": "stdout",
     "output_type": "stream",
     "text": [
      "Test Score: 0.8655606407322655\n"
     ]
    }
   ],
   "source": [
    "print(f\"Test Score: {grid.score(X_test_scaled,y_test)}\")"
   ]
  },
  {
   "cell_type": "code",
   "execution_count": 70,
   "metadata": {},
   "outputs": [],
   "source": [
    "# Make predictions with the hypertuned model\n",
    "predictionsSVC = grid.predict(X_test_scaled)"
   ]
  },
  {
   "cell_type": "code",
   "execution_count": 71,
   "metadata": {},
   "outputs": [
    {
     "name": "stdout",
     "output_type": "stream",
     "text": [
      "                precision    recall  f1-score   support\n",
      "\n",
      "     CANDIDATE       0.83      0.58      0.68       422\n",
      "     CONFIRMED       0.70      0.88      0.78       450\n",
      "FALSE POSITIVE       0.99      1.00      0.99       876\n",
      "\n",
      "      accuracy                           0.87      1748\n",
      "     macro avg       0.84      0.82      0.82      1748\n",
      "  weighted avg       0.87      0.87      0.86      1748\n",
      "\n"
     ]
    }
   ],
   "source": [
    "# Calculate classification report\n",
    "from sklearn.metrics import classification_report\n",
    "print(classification_report(y_test, predictionsSVC))"
   ]
  },
  {
   "cell_type": "markdown",
   "metadata": {},
   "source": [
    "# Random RainForest "
   ]
  },
  {
   "cell_type": "code",
   "execution_count": 23,
   "metadata": {},
   "outputs": [],
   "source": [
    "from sklearn.ensemble import RandomForestClassifier"
   ]
  },
  {
   "cell_type": "code",
   "execution_count": 88,
   "metadata": {},
   "outputs": [
    {
     "name": "stdout",
     "output_type": "stream",
     "text": [
      "Train Score: 0.9994278085065802\n",
      "Test Score:0.8913043478260869\n"
     ]
    }
   ],
   "source": [
    "#Scale the data \n",
    "rf = RandomForestClassifier(n_estimators=20)\n",
    "rf = rf.fit(X_train_scaled, y_train)\n",
    "print(f\"Train Score: {(rf.score(X_train_scaled, y_train))}\")\n",
    "print(f\"Test Score:{(rf.score(X_test_scaled, y_test))}\")"
   ]
  },
  {
   "cell_type": "code",
   "execution_count": 46,
   "metadata": {},
   "outputs": [
    {
     "data": {
      "text/plain": [
       "array([0.09264357, 0.05795774, 0.1137124 , 0.04377497, 0.01785274,\n",
       "       0.01546766, 0.02287371, 0.01625494, 0.02822666, 0.0229455 ,\n",
       "       0.02101954, 0.0121791 , 0.0090551 , 0.02280653, 0.02434579,\n",
       "       0.02368974, 0.02906229, 0.01007512, 0.02200726, 0.0474289 ,\n",
       "       0.04117045, 0.0261926 , 0.01374395, 0.01312564, 0.01321343,\n",
       "       0.01580101, 0.06603824, 0.00205566, 0.01023581, 0.03335073,\n",
       "       0.02836583, 0.00807512, 0.00797903, 0.01095193, 0.00749832,\n",
       "       0.00905163, 0.00918282, 0.01074261, 0.01118989, 0.00865604])"
      ]
     },
     "execution_count": 46,
     "metadata": {},
     "output_type": "execute_result"
    }
   ],
   "source": [
    "importances = rf.feature_importances_\n",
    "importances"
   ]
  },
  {
   "cell_type": "code",
   "execution_count": 47,
   "metadata": {},
   "outputs": [],
   "source": [
    "feature_names=df"
   ]
  },
  {
   "cell_type": "code",
   "execution_count": 48,
   "metadata": {},
   "outputs": [
    {
     "data": {
      "text/plain": [
       "[(0.11371240085839045, 'koi_fpflag_ss'),\n",
       " (0.09264356631688597, 'koi_disposition'),\n",
       " (0.06603823581375126, 'koi_insol_err2'),\n",
       " (0.05795773743514269, 'koi_fpflag_nt'),\n",
       " (0.04742890483383051, 'koi_depth_err2'),\n",
       " (0.04377497329344827, 'koi_fpflag_co'),\n",
       " (0.041170447887574464, 'koi_prad'),\n",
       " (0.03335073392235187, 'koi_steff'),\n",
       " (0.029062285468458276, 'koi_duration_err2'),\n",
       " (0.02836583425874766, 'koi_steff_err1'),\n",
       " (0.028226656295213797, 'koi_time0bk'),\n",
       " (0.026192601648368445, 'koi_prad_err1'),\n",
       " (0.024345785351019746, 'koi_duration'),\n",
       " (0.02368974148041999, 'koi_duration_err1'),\n",
       " (0.022945498154443855, 'koi_time0bk_err1'),\n",
       " (0.022873706665051577, 'koi_period_err1'),\n",
       " (0.02280652702077, 'koi_impact_err2'),\n",
       " (0.022007258977623328, 'koi_depth_err1'),\n",
       " (0.021019543267055248, 'koi_time0bk_err2'),\n",
       " (0.017852738767906988, 'koi_fpflag_ec'),\n",
       " (0.016254943444285647, 'koi_period_err2'),\n",
       " (0.01580100567147006, 'koi_insol_err1'),\n",
       " (0.015467659017374083, 'koi_period'),\n",
       " (0.01374395454832102, 'koi_prad_err2'),\n",
       " (0.013213430990097466, 'koi_insol'),\n",
       " (0.013125636962031456, 'koi_teq'),\n",
       " (0.012179101516217978, 'koi_impact'),\n",
       " (0.011189893067178543, 'ra'),\n",
       " (0.010951933086232688, 'koi_slogg_err1'),\n",
       " (0.010742612176197855, 'koi_srad_err2'),\n",
       " (0.010235809789394961, 'koi_tce_plnt_num'),\n",
       " (0.010075124030726565, 'koi_depth'),\n",
       " (0.009182818439696459, 'koi_srad_err1'),\n",
       " (0.0090550959715733, 'koi_impact_err1'),\n",
       " (0.009051633884619442, 'koi_srad'),\n",
       " (0.008656043090242573, 'dec'),\n",
       " (0.008075119540909826, 'koi_steff_err2'),\n",
       " (0.007979034857999761, 'koi_slogg'),\n",
       " (0.007498315079723697, 'koi_slogg_err2'),\n",
       " (0.0020556571192522346, 'koi_model_snr')]"
      ]
     },
     "execution_count": 48,
     "metadata": {},
     "output_type": "execute_result"
    }
   ],
   "source": [
    "sorted(zip(rf.feature_importances_, feature_names), reverse=True)"
   ]
  },
  {
   "cell_type": "code",
   "execution_count": 54,
   "metadata": {},
   "outputs": [],
   "source": [
    "param= {'n_estimators':[100,300,500],\n",
    "        'max_depth':[5,8,15]}\n",
    "grid_2 = GridSearchCV(rf, param, verbose=3)"
   ]
  },
  {
   "cell_type": "code",
   "execution_count": 55,
   "metadata": {},
   "outputs": [
    {
     "name": "stdout",
     "output_type": "stream",
     "text": [
      "Fitting 5 folds for each of 9 candidates, totalling 45 fits\n",
      "[CV] max_depth=5, n_estimators=100 ...................................\n"
     ]
    },
    {
     "name": "stderr",
     "output_type": "stream",
     "text": [
      "[Parallel(n_jobs=1)]: Using backend SequentialBackend with 1 concurrent workers.\n"
     ]
    },
    {
     "name": "stdout",
     "output_type": "stream",
     "text": [
      "[CV] ....... max_depth=5, n_estimators=100, score=0.865, total=   0.9s\n",
      "[CV] max_depth=5, n_estimators=100 ...................................\n"
     ]
    },
    {
     "name": "stderr",
     "output_type": "stream",
     "text": [
      "[Parallel(n_jobs=1)]: Done   1 out of   1 | elapsed:    0.9s remaining:    0.0s\n"
     ]
    },
    {
     "name": "stdout",
     "output_type": "stream",
     "text": [
      "[CV] ....... max_depth=5, n_estimators=100, score=0.858, total=   0.7s\n",
      "[CV] max_depth=5, n_estimators=100 ...................................\n"
     ]
    },
    {
     "name": "stderr",
     "output_type": "stream",
     "text": [
      "[Parallel(n_jobs=1)]: Done   2 out of   2 | elapsed:    1.6s remaining:    0.0s\n"
     ]
    },
    {
     "name": "stdout",
     "output_type": "stream",
     "text": [
      "[CV] ....... max_depth=5, n_estimators=100, score=0.865, total=   0.7s\n",
      "[CV] max_depth=5, n_estimators=100 ...................................\n",
      "[CV] ....... max_depth=5, n_estimators=100, score=0.867, total=   0.7s\n",
      "[CV] max_depth=5, n_estimators=100 ...................................\n",
      "[CV] ....... max_depth=5, n_estimators=100, score=0.864, total=   0.7s\n",
      "[CV] max_depth=5, n_estimators=300 ...................................\n",
      "[CV] ....... max_depth=5, n_estimators=300, score=0.866, total=   2.0s\n",
      "[CV] max_depth=5, n_estimators=300 ...................................\n",
      "[CV] ....... max_depth=5, n_estimators=300, score=0.858, total=   1.9s\n",
      "[CV] max_depth=5, n_estimators=300 ...................................\n",
      "[CV] ....... max_depth=5, n_estimators=300, score=0.867, total=   1.9s\n",
      "[CV] max_depth=5, n_estimators=300 ...................................\n",
      "[CV] ....... max_depth=5, n_estimators=300, score=0.868, total=   1.9s\n",
      "[CV] max_depth=5, n_estimators=300 ...................................\n",
      "[CV] ....... max_depth=5, n_estimators=300, score=0.868, total=   1.9s\n",
      "[CV] max_depth=5, n_estimators=500 ...................................\n",
      "[CV] ....... max_depth=5, n_estimators=500, score=0.862, total=   3.1s\n",
      "[CV] max_depth=5, n_estimators=500 ...................................\n",
      "[CV] ....... max_depth=5, n_estimators=500, score=0.861, total=   3.2s\n",
      "[CV] max_depth=5, n_estimators=500 ...................................\n",
      "[CV] ....... max_depth=5, n_estimators=500, score=0.869, total=   3.2s\n",
      "[CV] max_depth=5, n_estimators=500 ...................................\n",
      "[CV] ....... max_depth=5, n_estimators=500, score=0.867, total=   3.2s\n",
      "[CV] max_depth=5, n_estimators=500 ...................................\n",
      "[CV] ....... max_depth=5, n_estimators=500, score=0.865, total=   3.1s\n",
      "[CV] max_depth=8, n_estimators=100 ...................................\n",
      "[CV] ....... max_depth=8, n_estimators=100, score=0.880, total=   0.8s\n",
      "[CV] max_depth=8, n_estimators=100 ...................................\n",
      "[CV] ....... max_depth=8, n_estimators=100, score=0.879, total=   0.9s\n",
      "[CV] max_depth=8, n_estimators=100 ...................................\n",
      "[CV] ....... max_depth=8, n_estimators=100, score=0.888, total=   0.9s\n",
      "[CV] max_depth=8, n_estimators=100 ...................................\n",
      "[CV] ....... max_depth=8, n_estimators=100, score=0.883, total=   0.9s\n",
      "[CV] max_depth=8, n_estimators=100 ...................................\n",
      "[CV] ....... max_depth=8, n_estimators=100, score=0.886, total=   0.9s\n",
      "[CV] max_depth=8, n_estimators=300 ...................................\n",
      "[CV] ....... max_depth=8, n_estimators=300, score=0.885, total=   2.5s\n",
      "[CV] max_depth=8, n_estimators=300 ...................................\n",
      "[CV] ....... max_depth=8, n_estimators=300, score=0.880, total=   2.6s\n",
      "[CV] max_depth=8, n_estimators=300 ...................................\n",
      "[CV] ....... max_depth=8, n_estimators=300, score=0.889, total=   2.6s\n",
      "[CV] max_depth=8, n_estimators=300 ...................................\n",
      "[CV] ....... max_depth=8, n_estimators=300, score=0.885, total=   2.6s\n",
      "[CV] max_depth=8, n_estimators=300 ...................................\n",
      "[CV] ....... max_depth=8, n_estimators=300, score=0.881, total=   2.5s\n",
      "[CV] max_depth=8, n_estimators=500 ...................................\n",
      "[CV] ....... max_depth=8, n_estimators=500, score=0.880, total=   4.4s\n",
      "[CV] max_depth=8, n_estimators=500 ...................................\n",
      "[CV] ....... max_depth=8, n_estimators=500, score=0.881, total=   4.6s\n",
      "[CV] max_depth=8, n_estimators=500 ...................................\n",
      "[CV] ....... max_depth=8, n_estimators=500, score=0.892, total=   4.5s\n",
      "[CV] max_depth=8, n_estimators=500 ...................................\n",
      "[CV] ....... max_depth=8, n_estimators=500, score=0.883, total=   4.5s\n",
      "[CV] max_depth=8, n_estimators=500 ...................................\n",
      "[CV] ....... max_depth=8, n_estimators=500, score=0.885, total=   4.7s\n",
      "[CV] max_depth=15, n_estimators=100 ..................................\n",
      "[CV] ...... max_depth=15, n_estimators=100, score=0.908, total=   1.2s\n",
      "[CV] max_depth=15, n_estimators=100 ..................................\n",
      "[CV] ...... max_depth=15, n_estimators=100, score=0.894, total=   1.3s\n",
      "[CV] max_depth=15, n_estimators=100 ..................................\n",
      "[CV] ...... max_depth=15, n_estimators=100, score=0.896, total=   1.2s\n",
      "[CV] max_depth=15, n_estimators=100 ..................................\n",
      "[CV] ...... max_depth=15, n_estimators=100, score=0.896, total=   1.2s\n",
      "[CV] max_depth=15, n_estimators=100 ..................................\n",
      "[CV] ...... max_depth=15, n_estimators=100, score=0.896, total=   1.2s\n",
      "[CV] max_depth=15, n_estimators=300 ..................................\n",
      "[CV] ...... max_depth=15, n_estimators=300, score=0.902, total=   3.7s\n",
      "[CV] max_depth=15, n_estimators=300 ..................................\n",
      "[CV] ...... max_depth=15, n_estimators=300, score=0.884, total=   3.6s\n",
      "[CV] max_depth=15, n_estimators=300 ..................................\n",
      "[CV] ...... max_depth=15, n_estimators=300, score=0.898, total=   3.5s\n",
      "[CV] max_depth=15, n_estimators=300 ..................................\n",
      "[CV] ...... max_depth=15, n_estimators=300, score=0.893, total=   3.5s\n",
      "[CV] max_depth=15, n_estimators=300 ..................................\n",
      "[CV] ...... max_depth=15, n_estimators=300, score=0.895, total=   3.6s\n",
      "[CV] max_depth=15, n_estimators=500 ..................................\n",
      "[CV] ...... max_depth=15, n_estimators=500, score=0.901, total=   5.9s\n",
      "[CV] max_depth=15, n_estimators=500 ..................................\n",
      "[CV] ...... max_depth=15, n_estimators=500, score=0.894, total=   6.0s\n",
      "[CV] max_depth=15, n_estimators=500 ..................................\n",
      "[CV] ...... max_depth=15, n_estimators=500, score=0.896, total=   5.8s\n",
      "[CV] max_depth=15, n_estimators=500 ..................................\n",
      "[CV] ...... max_depth=15, n_estimators=500, score=0.894, total=   5.7s\n",
      "[CV] max_depth=15, n_estimators=500 ..................................\n",
      "[CV] ...... max_depth=15, n_estimators=500, score=0.892, total=   5.7s\n"
     ]
    },
    {
     "name": "stderr",
     "output_type": "stream",
     "text": [
      "[Parallel(n_jobs=1)]: Done  45 out of  45 | elapsed:  2.0min finished\n"
     ]
    },
    {
     "data": {
      "text/plain": [
       "GridSearchCV(cv=None, error_score=nan,\n",
       "             estimator=RandomForestClassifier(bootstrap=True, ccp_alpha=0.0,\n",
       "                                              class_weight=None,\n",
       "                                              criterion='gini', max_depth=None,\n",
       "                                              max_features='auto',\n",
       "                                              max_leaf_nodes=None,\n",
       "                                              max_samples=None,\n",
       "                                              min_impurity_decrease=0.0,\n",
       "                                              min_impurity_split=None,\n",
       "                                              min_samples_leaf=1,\n",
       "                                              min_samples_split=2,\n",
       "                                              min_weight_fraction_leaf=0.0,\n",
       "                                              n_estimators=20, n_jobs=None,\n",
       "                                              oob_score=False,\n",
       "                                              random_state=None, verbose=0,\n",
       "                                              warm_start=False),\n",
       "             iid='deprecated', n_jobs=None,\n",
       "             param_grid={'max_depth': [5, 8, 15],\n",
       "                         'n_estimators': [100, 300, 500]},\n",
       "             pre_dispatch='2*n_jobs', refit=True, return_train_score=False,\n",
       "             scoring=None, verbose=3)"
      ]
     },
     "execution_count": 55,
     "metadata": {},
     "output_type": "execute_result"
    }
   ],
   "source": [
    "grid_2.fit(X_train_scaled, y_train)"
   ]
  },
  {
   "cell_type": "code",
   "execution_count": 82,
   "metadata": {},
   "outputs": [
    {
     "name": "stdout",
     "output_type": "stream",
     "text": [
      "Best Parameters: {'max_depth': 15, 'n_estimators': 100}\n"
     ]
    }
   ],
   "source": [
    "print(f\"Best Parameters: {(grid_2.best_params_)}\")"
   ]
  },
  {
   "cell_type": "code",
   "execution_count": 83,
   "metadata": {},
   "outputs": [
    {
     "name": "stdout",
     "output_type": "stream",
     "text": [
      "Best Score: 0.897958433695486\n"
     ]
    }
   ],
   "source": [
    "print(f\"Best Score: {(grid_2.best_score_)}\")"
   ]
  },
  {
   "cell_type": "code",
   "execution_count": 84,
   "metadata": {},
   "outputs": [
    {
     "name": "stdout",
     "output_type": "stream",
     "text": [
      "Train Score: 0.9813084112149533\n"
     ]
    }
   ],
   "source": [
    "print(f\"Train Score: {grid_2.score(X_train_scaled, y_train)}\")"
   ]
  },
  {
   "cell_type": "code",
   "execution_count": 85,
   "metadata": {},
   "outputs": [
    {
     "name": "stdout",
     "output_type": "stream",
     "text": [
      "Test Score: 0.8895881006864989\n"
     ]
    }
   ],
   "source": [
    "print(f\"Test Score: {grid_2.score(X_test_scaled, y_test)}\")"
   ]
  },
  {
   "cell_type": "code",
   "execution_count": 62,
   "metadata": {},
   "outputs": [],
   "source": [
    "RfPrediction=grid_2.predict(X_test_scaled)"
   ]
  },
  {
   "cell_type": "code",
   "execution_count": 64,
   "metadata": {},
   "outputs": [
    {
     "name": "stdout",
     "output_type": "stream",
     "text": [
      "                precision    recall  f1-score   support\n",
      "\n",
      "     CANDIDATE       0.83      0.70      0.76       422\n",
      "     CONFIRMED       0.77      0.86      0.81       450\n",
      "FALSE POSITIVE       0.98      1.00      0.99       876\n",
      "\n",
      "      accuracy                           0.89      1748\n",
      "     macro avg       0.86      0.85      0.85      1748\n",
      "  weighted avg       0.89      0.89      0.89      1748\n",
      "\n"
     ]
    }
   ],
   "source": [
    "from sklearn.metrics import classification_report\n",
    "print(classification_report(y_test,RfPrediction))"
   ]
  },
  {
   "cell_type": "markdown",
   "metadata": {},
   "source": [
    "# Save the Model"
   ]
  },
  {
   "cell_type": "code",
   "execution_count": 86,
   "metadata": {},
   "outputs": [
    {
     "data": {
      "text/plain": [
       "['Kepler_Exoplanet.sav']"
      ]
     },
     "execution_count": 86,
     "metadata": {},
     "output_type": "execute_result"
    }
   ],
   "source": [
    "# save your model by updating \"your_name\" with your name\n",
    "# and \"your_model\" with your model variable\n",
    "# be sure to turn this in to BCS\n",
    "# if joblib fails to import, try running the command to install in terminal/git-bash\n",
    "import joblib\n",
    "filename = 'Kepler_Exoplanet.sav'\n",
    "joblib.dump(model, 'Kepler_Exoplanet.sav')"
   ]
  },
  {
   "cell_type": "code",
   "execution_count": null,
   "metadata": {},
   "outputs": [],
   "source": []
  }
 ],
 "metadata": {
  "kernel_info": {
   "name": "dev"
  },
  "kernelspec": {
   "display_name": "Python 3",
   "language": "python",
   "name": "python3"
  },
  "language_info": {
   "codemirror_mode": {
    "name": "ipython",
    "version": 3
   },
   "file_extension": ".py",
   "mimetype": "text/x-python",
   "name": "python",
   "nbconvert_exporter": "python",
   "pygments_lexer": "ipython3",
   "version": "3.6.10"
  },
  "nteract": {
   "version": "0.12.3"
  }
 },
 "nbformat": 4,
 "nbformat_minor": 2
}
